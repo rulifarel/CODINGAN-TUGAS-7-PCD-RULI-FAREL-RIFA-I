# RULI FAREL RIFA'I 20230040165 TI23G
# JAWABAN 1 : ANALISIS DAN SINTESIS ALGORITMA PERBAIKAN CITRA

import cv2
import numpy as np
import matplotlib.pyplot as plt
from google.colab import files

# 1. Uploadkan citra dokumen/foto grayscale
uploaded = files.upload()
filename = list(uploaded.keys())[0]

# Baca dan konversi ke grayscale
img = cv2.imread(filename, cv2.IMREAD_GRAYSCALE)
plt.figure(figsize=(6,6))
plt.title("Citra Asli (Grayscale)")
plt.imshow(img, cmap='gray')
plt.axis('off')
plt.show()

# 2. Tahap CLAHE untuk koreksi pencahayaan tidak merata
clahe = cv2.createCLAHE(clipLimit=2.0, tileGridSize=(8,8))
img_clahe = clahe.apply(img)

plt.figure(figsize=(12,4))
plt.subplot(1,2,1); plt.title("Histogram Asli"); plt.hist(img.ravel(),256,[0,256])
plt.subplot(1,2,2); plt.title("Histogram CLAHE"); plt.hist(img_clahe.ravel(),256,[0,256])
plt.show()

# 3. Median Filter untuk menghilangkan noise 
img_median = cv2.medianBlur(img_clahe, 3)

# 4. Tahap Unsharp Masking untuk mempertajam teks
gaussian = cv2.GaussianBlur(img_median, (9,9), 10.0)
img_unsharp = cv2.addWeighted(img_median, 1.5, gaussian, -0.5, 0)

# Tampilkan hasil bertahap
titles = ['Asli','CLAHE','Median Filter','Unsharp Mask']
images = [img, img_clahe, img_median, img_unsharp]
plt.figure(figsize=(14,5))
for i in range(4):
    plt.subplot(1,4,i+1)
    plt.imshow(images[i], cmap='gray')
    plt.title(titles[i])
    plt.axis('off')
plt.show()

# Analisis histogram hasil akhir
plt.figure(figsize=(6,4))
plt.title("Histogram Hasil Akhir (CLAHE + Median + Unsharp)")
plt.hist(img_unsharp.ravel(),256,[0,256])
plt.show()

print("""
ANALISIS TEORITIS:
1️. CLAHE: Memperluas rentang kontras lokal → histogram lebih merata di seluruh area → area gelap jadi lebih terang.
2️. Median Filter: Menghapus noise impulsif tanpa merusak tepi → histogram agak menghalus.
3️. Unsharp Masking: Menambah kontras tepi → histogram sedikit melebar → detail teks lebih tajam.
""")


#  TRANSFORMASI NONLINEAR

# Transformasi Log
c_log = 255 / np.log(1 + np.max(img))
img_log = c_log * (np.log(1 + img))
img_log = np.array(img_log, dtype=np.uint8)

# Transformasi Gamma
gamma_low = 0.5  # γ < 1 → mencerahkan
gamma_high = 2.0 # γ > 1 → menggelapkan
img_gamma_low = np.array(255 * ((img/255) ** gamma_low), dtype=np.uint8)
img_gamma_high = np.array(255 * ((img/255) ** gamma_high), dtype=np.uint8)

# Histogram Equalization
img_he = cv2.equalizeHist(img)

# Tampilkan hasil transformasi
titles = ['Asli','Log Transform','Gamma<1','Gamma>1','Histogram Equalization']
images = [img,img_log,img_gamma_low,img_gamma_high,img_he]
plt.figure(figsize=(15,4))
for i in range(5):
    plt.subplot(1,5,i+1)
    plt.imshow(images[i], cmap='gray')
    plt.title(titles[i])
    plt.axis('off')
plt.show()

print("""
ANALISIS EFEK:
🔹 Log Transform → Memperbesar nilai intensitas rendah → cocok untuk citra gelap (Citra A).
🔹 Gamma < 1 → Meningkatkan area gelap; cocok untuk foto underexposed.
🔹 Gamma > 1 → Mengecilkan area terang; cocok untuk citra terlalu terang.
🔹 Histogram Equalization → Menyebarkan nilai intensitas ke seluruh rentang → menaikkan kontras global.
⚠️ Kegagalan:
- Log/Gamma<1 pada citra terang → overbright, kehilangan detail.
- Gamma>1 pada citra gelap → makin gelap.
- HE pada citra dengan noise → bisa memperkuat noise.
""")


# 3️⃣ ALGORITMA HIBRID ADAPTIF (Pseudo-adaptif)

def adaptive_gamma(img):
    """ Menentukan gamma otomatis berdasarkan mean brightness """
    mean_intensity = np.mean(img)
    if mean_intensity < 100:
        gamma = 0.5  # gambar gelap -> cerahkan
    elif mean_intensity > 180:
        gamma = 2.0  # gambar terlalu terang -> gelapkan
    else:
        gamma = 1.0
    corrected = np.array(255 * ((img / 255) ** gamma), dtype=np.uint8)
    return corrected, gamma

img_auto, gamma_used = adaptive_gamma(img)
print(f"Gamma adaptif digunakan: {gamma_used}")

plt.figure(figsize=(10,4))
plt.subplot(1,2,1); plt.imshow(img, cmap='gray'); plt.title('Asli')
plt.subplot(1,2,2); plt.imshow(img_auto, cmap='gray'); plt.title(f'Adaptive Gamma = {gamma_used}')
plt.show()

print("""
KONSEP ADAPTIVITAS:
- Parameter γ disesuaikan otomatis berdasarkan mean brightness.
- Bisa diperluas menggunakan entropy atau contrast index sebagai indikator.
- Tujuan: mencerahkan citra gelap, menurunkan kontras pada citra terang secara dinamis.
""")
